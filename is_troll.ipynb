{
  "nbformat": 4,
  "nbformat_minor": 0,
  "metadata": {
    "colab": {
      "name": "is_troll.ipynb",
      "provenance": [],
      "machine_shape": "hm",
      "mount_file_id": "1BiYA4EKHkakSpnbmnn9Qmr7z7hi03qlJ",
      "authorship_tag": "ABX9TyNw7OkxrbUvqhPIaV9fG5uq",
      "include_colab_link": true
    },
    "kernelspec": {
      "name": "python3",
      "display_name": "Python 3"
    },
    "language_info": {
      "name": "python"
    },
    "accelerator": "GPU",
    "gpuClass": "standard"
  },
  "cells": [
    {
      "cell_type": "markdown",
      "metadata": {
        "id": "view-in-github",
        "colab_type": "text"
      },
      "source": [
        "<a href=\"https://colab.research.google.com/github/Skirlax/RussianTrollsDataset/blob/master/is_troll.ipynb\" target=\"_parent\"><img src=\"https://colab.research.google.com/assets/colab-badge.svg\" alt=\"Open In Colab\"/></a>"
      ]
    },
    {
      "cell_type": "markdown",
      "source": [
        "Preprocess"
      ],
      "metadata": {
        "id": "E1W6KOGHVPJZ"
      }
    },
    {
      "cell_type": "code",
      "source": [
        "import copy\n",
        "\n",
        "import numpy as np\n",
        "import pandas as pd\n",
        "from keras_preprocessing.sequence import pad_sequences\n",
        "from keras_preprocessing.text import Tokenizer\n",
        "from sklearn.feature_extraction.text import CountVectorizer\n",
        "from sklearn.model_selection import train_test_split\n",
        "from keras.preprocessing import sequence\n",
        "import tensorflow as tf"
      ],
      "metadata": {
        "id": "t7w3ZO3eVkUQ"
      },
      "execution_count": 2,
      "outputs": []
    },
    {
      "cell_type": "code",
      "source": [
        "from google.colab import drive\n",
        "drive.mount('/content/drive')\n"
      ],
      "metadata": {
        "colab": {
          "base_uri": "https://localhost:8080/"
        },
        "id": "eX-_LYJ6ZCa9",
        "outputId": "06f89d64-75de-461f-f7c4-0c83f2cdf502"
      },
      "execution_count": 3,
      "outputs": [
        {
          "output_type": "stream",
          "name": "stdout",
          "text": [
            "Mounted at /content/drive\n"
          ]
        }
      ]
    },
    {
      "cell_type": "code",
      "execution_count": 4,
      "metadata": {
        "id": "KQHAeCxDFm3-",
        "colab": {
          "base_uri": "https://localhost:8080/"
        },
        "outputId": "bb038bd1-ee52-4e6b-9804-921935ad97b9"
      },
      "outputs": [
        {
          "output_type": "stream",
          "name": "stdout",
          "text": [
            "Chris is mourning the loss of his beloved mountain bike - stolen from his garage on Friday night \n"
          ]
        }
      ],
      "source": [
        "max_len = 250\n",
        "\n",
        "dataset = pd.read_csv(\"/content/drive/MyDrive/data/trolls.csv\")\n",
        "dataset = dataset.dropna()\n",
        "dataset = dataset.drop(\"author\", axis=1)\n",
        "print(dataset[\"content\"].values[0])\n",
        "word_count = 27816489\n",
        "# word_count = sum([wordcounter.WordCounter(x).get_word_count() for x in dataset[\"content\"].values])\n",
        "train_data, test_data = train_test_split(dataset, test_size=0.2)\n",
        "\n",
        "train_labels = train_data[\"is_troll\"]\n",
        "test_labels = test_data[\"is_troll\"]\n",
        "train_data = train_data.drop([\"is_troll\"], axis=1)\n",
        "test_data = test_data.drop([\"is_troll\"], axis=1)"
      ]
    },
    {
      "cell_type": "code",
      "source": [
        "tokenizer = Tokenizer(num_words=word_count)\n",
        "tokenizer.fit_on_texts(test_data[\"content\"].values)\n",
        "test_data = tokenizer.texts_to_sequences(test_data[\"content\"].values)"
      ],
      "metadata": {
        "id": "fWr5z2a6dPyF"
      },
      "execution_count": 5,
      "outputs": []
    },
    {
      "cell_type": "code",
      "source": [
        "tokenizer.fit_on_texts(train_data[\"content\"].values)\n",
        "train_data = tokenizer.texts_to_sequences(train_data[\"content\"].values)"
      ],
      "metadata": {
        "id": "Hd2hNOnHdWs9"
      },
      "execution_count": 6,
      "outputs": []
    },
    {
      "cell_type": "code",
      "source": [
        "train_data = pad_sequences(train_data, maxlen=max_len)\n",
        "# dont round the numbers\n",
        "test_data = pad_sequences(test_data, maxlen=max_len)"
      ],
      "metadata": {
        "id": "RN0tIxOJdXj2"
      },
      "execution_count": 7,
      "outputs": []
    },
    {
      "cell_type": "code",
      "source": [
        "model = tf.keras.models.Sequential([\n",
        "        tf.keras.layers.Embedding(word_count, 32),\n",
        "        tf.keras.layers.LSTM(32),\n",
        "        tf.keras.layers.Dense(1, activation='sigmoid')\n",
        "    ])"
      ],
      "metadata": {
        "id": "UHU25rfedfOL"
      },
      "execution_count": 8,
      "outputs": []
    },
    {
      "cell_type": "code",
      "source": [
        "model.compile(loss=\"binary_crossentropy\",optimizer=\"rmsprop\",metrics=['acc'])"
      ],
      "metadata": {
        "id": "G8dG8p7edhJa"
      },
      "execution_count": 9,
      "outputs": []
    },
    {
      "cell_type": "code",
      "source": [
        "model.fit(train_data, train_labels, epochs=1, validation_split=0.2)"
      ],
      "metadata": {
        "id": "N1o55KRMdkD6"
      },
      "execution_count": null,
      "outputs": []
    },
    {
      "cell_type": "code",
      "source": [
        "model.save(\"trolls2.h5\")"
      ],
      "metadata": {
        "id": "_NUufw1Fdpn9"
      },
      "execution_count": 12,
      "outputs": []
    },
    {
      "cell_type": "code",
      "source": [
        "from google.colab import files\n",
        "files.download('trolls2.h5') "
      ],
      "metadata": {
        "id": "TZZ3M-X-huju"
      },
      "execution_count": null,
      "outputs": []
    }
  ]
}